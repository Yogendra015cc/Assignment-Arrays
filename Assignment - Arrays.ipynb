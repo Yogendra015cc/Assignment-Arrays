{
 "cells": [
  {
   "cell_type": "markdown",
   "id": "57cf2851-08f6-4192-b197-eadca2781c2b",
   "metadata": {},
   "source": [
    "# Assignment (Array)"
   ]
  },
  {
   "cell_type": "raw",
   "id": "bc139fb3-cb02-4f45-b6ba-8de1a2d5cc26",
   "metadata": {},
   "source": [
    "1. Given an array, check if it contains any duplicates or not.\n",
    "arr = [1, 2, 4, 2, 5, 9]\n",
    "Output = True\n",
    "\n",
    "2. Given an array and an integer k, rotate the array to the right by k steps.\n",
    "arr = [1, 2, 3, 4, 5, 6, 7] k = 3\n",
    "Output = [5, 6, 7, 1, 2, 3, 4]\n",
    "\n",
    "3. Reverse the given array in-place, means without using any extra data structure.\n",
    "arr = [2, 4, 5, 7, 9, 12]\n",
    "Output = [12, 9, 7, 5, 4, 2]\n",
    "\n",
    "4. Given an array of integers, find the maximum element in an array\n",
    "arr = [10, 5, 20, 8, 15]\n",
    "Output = 20\n",
    "\n",
    "5. Given a sorted array, remove the duplicate element without using any extra data structure.\n",
    "arr = [1, 1, 2, 2, 2, 3, 3, 4, 4, 4, 5, 5]\n",
    "Output = [1, 2, 3, 4, 5]"
   ]
  },
  {
   "cell_type": "markdown",
   "id": "664386bb-ae4c-4a93-8482-25141dcfa07d",
   "metadata": {},
   "source": [
    "1. Given an array, check if it contains any duplicates or not.\n",
    "arr = [1, 2, 4, 2, 5, 9]\n",
    "Output = True"
   ]
  },
  {
   "cell_type": "code",
   "execution_count": 13,
   "id": "c551ade0-8c84-4109-9714-f841976a492d",
   "metadata": {},
   "outputs": [
    {
     "name": "stdout",
     "output_type": "stream",
     "text": [
      "True\n"
     ]
    }
   ],
   "source": [
    "#1. solve\n",
    "\n",
    "#Defining function which will check weather arr contains any duplicate or not\n",
    "\n",
    "def check_duplicate(arr): \n",
    "    arr_ = []\n",
    "    for i in arr:\n",
    "        if i in arr_:\n",
    "            return True\n",
    "        arr_.append(i)\n",
    "    return False\n",
    "\n",
    "# Driver code\n",
    "arr = [1, 2, 4, 2, 5, 9]\n",
    "print(check_duplicate(arr))\n",
    "\n",
    "# time complexity = O(n)\n",
    "# space complexity = O(n)"
   ]
  },
  {
   "cell_type": "markdown",
   "id": "b49eec1f-05b3-4bc8-b89b-54fe96c13132",
   "metadata": {},
   "source": [
    "2. Given an array and an integer k, rotate the array to the right by k steps.\n",
    "arr = [1, 2, 3, 4, 5, 6, 7] k = 3\n",
    "Output = [5, 6, 7, 1, 2, 3, 4]"
   ]
  },
  {
   "cell_type": "code",
   "execution_count": 30,
   "id": "87db31c9-c49b-45ed-8d2a-5447ea7c70c1",
   "metadata": {},
   "outputs": [],
   "source": [
    "arr2 = [1, 2, 3, 4, 5, 6, 7]\n",
    "k = 3\n",
    "rotatated_arr = arr2[-k:] + arr2[:-k]\n",
    "# time complexity = O(1)\n",
    "# space complexity = O(1)"
   ]
  },
  {
   "cell_type": "code",
   "execution_count": 25,
   "id": "3895c684-64dd-4e60-9926-1f07189c9f6a",
   "metadata": {},
   "outputs": [
    {
     "data": {
      "text/plain": [
       "[5, 6, 7, 1, 2, 3, 4]"
      ]
     },
     "execution_count": 25,
     "metadata": {},
     "output_type": "execute_result"
    }
   ],
   "source": [
    "rotatated_arr"
   ]
  },
  {
   "cell_type": "markdown",
   "id": "151fd15d-8097-43ae-98d5-5b23e17bb3a7",
   "metadata": {},
   "source": [
    "3. Reverse the given array in-place, means without using any extra data structure.\n",
    "arr = [2, 4, 5, 7, 9, 12]\n",
    "Output = [12, 9, 7, 5, 4, 2]"
   ]
  },
  {
   "cell_type": "code",
   "execution_count": 29,
   "id": "3e17959b-5d90-4451-a39f-1075b0cba19c",
   "metadata": {},
   "outputs": [
    {
     "name": "stdout",
     "output_type": "stream",
     "text": [
      "[12, 9, 7, 5, 4, 2]\n"
     ]
    }
   ],
   "source": [
    "arr3 = [2, 4, 5, 7, 9, 12]\n",
    "reverse_arr = arr3[::-1]\n",
    "print(reverse_arr)\n",
    "# Here\n",
    "# time complexity = O(1)\n",
    "# space complexity = O(1)"
   ]
  },
  {
   "cell_type": "raw",
   "id": "85a8da8b-e788-41b7-9412-79b01d2c9eb4",
   "metadata": {
    "tags": []
   },
   "source": [
    "4. Given an array of integers, find the maximum element in an array\n",
    "arr = [10, 5, 20, 8, 15]\n",
    "Output = 20"
   ]
  },
  {
   "cell_type": "code",
   "execution_count": 4,
   "id": "6ac4a47a-ed14-4c6d-8158-a312c362d60c",
   "metadata": {},
   "outputs": [
    {
     "name": "stdout",
     "output_type": "stream",
     "text": [
      "20\n"
     ]
    }
   ],
   "source": [
    "def max_arr(arr4):\n",
    "    max_num_in_arr = arr4[0]\n",
    "    for i in arr4:\n",
    "        if i > max_num_in_arr:\n",
    "            max_num_in_arr = i \n",
    "    return max_num_in_arr\n",
    "arr4 = [10, 5, 20, 8, 15]\n",
    "print(max_arr(arr4))"
   ]
  },
  {
   "cell_type": "raw",
   "id": "49ed2e61-f106-478a-873b-480ae0bf6acc",
   "metadata": {},
   "source": [
    "5. Given a sorted array, remove the duplicate element without using any extra data structure.\n",
    "arr = [1, 1, 2, 2, 2, 3, 3, 4, 4, 4, 5, 5]\n",
    "Output = [1, 2, 3, 4, 5]"
   ]
  },
  {
   "cell_type": "code",
   "execution_count": 8,
   "id": "b16a1b51-1292-4b18-affa-e8f302797411",
   "metadata": {},
   "outputs": [
    {
     "name": "stdout",
     "output_type": "stream",
     "text": [
      "[1, 2, 3, 4, 5]\n"
     ]
    }
   ],
   "source": [
    "def remove_duplicates(arr5):\n",
    "    index = 0\n",
    "\n",
    "    # Iterating through the array to remove duplicates\n",
    "    for i in range(1, len(arr5)):\n",
    "        if arr5[i] != arr5[index]:\n",
    "            index += 1\n",
    "            arr5[index] = arr5[i]\n",
    "\n",
    "    # The array up to the index contains unique elements\n",
    "    return arr5[:index + 1]\n",
    "\n",
    "arr5 = [1, 1, 2, 2, 2, 3, 3, 4, 4, 4, 5, 5]\n",
    "result = remove_duplicates(arr5)\n",
    "\n",
    "print(result)\n"
   ]
  },
  {
   "cell_type": "code",
   "execution_count": null,
   "id": "08080517-a2bd-45be-bd6e-52879fedeb82",
   "metadata": {},
   "outputs": [],
   "source": []
  }
 ],
 "metadata": {
  "kernelspec": {
   "display_name": "Python 3 (ipykernel)",
   "language": "python",
   "name": "python3"
  },
  "language_info": {
   "codemirror_mode": {
    "name": "ipython",
    "version": 3
   },
   "file_extension": ".py",
   "mimetype": "text/x-python",
   "name": "python",
   "nbconvert_exporter": "python",
   "pygments_lexer": "ipython3",
   "version": "3.10.8"
  }
 },
 "nbformat": 4,
 "nbformat_minor": 5
}
